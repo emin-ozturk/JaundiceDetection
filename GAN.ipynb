{
  "nbformat": 4,
  "nbformat_minor": 0,
  "metadata": {
    "colab": {
      "provenance": [],
      "authorship_tag": "ABX9TyP7EZf2o11qVcYUEMGUiry5",
      "include_colab_link": true
    },
    "kernelspec": {
      "name": "python3",
      "display_name": "Python 3"
    },
    "language_info": {
      "name": "python"
    },
    "accelerator": "GPU",
    "gpuClass": "standard"
  },
  "cells": [
    {
      "cell_type": "markdown",
      "metadata": {
        "id": "view-in-github",
        "colab_type": "text"
      },
      "source": [
        "<a href=\"https://colab.research.google.com/github/emin-ozturk/JaundiceDetection/blob/main/GAN.ipynb\" target=\"_parent\"><img src=\"https://colab.research.google.com/assets/colab-badge.svg\" alt=\"Open In Colab\"/></a>"
      ]
    },
    {
      "cell_type": "code",
      "execution_count": null,
      "metadata": {
        "id": "oNy0ni6OXIkv"
      },
      "outputs": [],
      "source": [
        "#GPU kullanmak için kimlik doğrulama işlemi\n",
        "from google.colab import drive\n",
        "drive.mount('/gdrive')\n"
      ]
    },
    {
      "cell_type": "code",
      "source": [
        "import os\n",
        "os.chdir(\"/gdrive/My Drive/Makale\")\n",
        "!ls"
      ],
      "metadata": {
        "id": "bUiUGif8Zicc"
      },
      "execution_count": null,
      "outputs": []
    },
    {
      "cell_type": "markdown",
      "source": [
        "# 1.ADIM: Gereken kütüphanelerin yüklenmesi"
      ],
      "metadata": {
        "id": "QYiJHU4EaU0b"
      }
    },
    {
      "cell_type": "code",
      "source": [
        "%matplotlib inline\n",
        "import tensorflow as tf\n",
        "from tensorflow import keras\n",
        "import numpy as np\n",
        "import matplotlib.pyplot as plt\n",
        "from tqdm import tqdm\n",
        "print('Tensorflow version:', tf.__version__)"
      ],
      "metadata": {
        "id": "jJXecU5maEzZ"
      },
      "execution_count": null,
      "outputs": []
    },
    {
      "cell_type": "code",
      "source": [
        "def show(images, n_cols=None):\n",
        "    n_cols = n_cols or len(images)\n",
        "    n_rows = (len(images) - 1) // n_cols + 1\n",
        "    if images.shape[-1] == 1:\n",
        "        images = np.squeeze(images, axis=-1)\n",
        "    plt.figure(figsize=(n_cols, n_rows))\n",
        "    for index, image in enumerate(images):\n",
        "        plt.subplot(n_rows, n_cols, index + 1)\n",
        "        plt.imshow(image, cmap=\"binary\")\n",
        "        plt.axis(\"off\")"
      ],
      "metadata": {
        "id": "u8dFouIxaeYF"
      },
      "execution_count": null,
      "outputs": []
    },
    {
      "cell_type": "markdown",
      "source": [
        "# Görüntü hazırlama"
      ],
      "metadata": {
        "id": "FJwfrk_Q4_BG"
      }
    },
    {
      "cell_type": "code",
      "source": [
        "import cv2\n",
        "from imutils import paths\n",
        "from tensorflow.keras.utils import to_categorical\n",
        "from sklearn.preprocessing import LabelBinarizer\n",
        "from tensorflow.keras.preprocessing.image import ImageDataGenerator\n",
        "import numpy as np\n",
        "import os\n",
        "from sklearn.model_selection import train_test_split"
      ],
      "metadata": {
        "id": "wjMv81au6b6L"
      },
      "execution_count": null,
      "outputs": []
    },
    {
      "cell_type": "code",
      "source": [
        "def getImage(dataPaths):\n",
        "  images = []\n",
        "  for path in dataPaths:\n",
        "    image = cv2.imread(path)\n",
        "    image = cv2.resize(image, (224, 224))\n",
        "    images.append(image)\n",
        "  images = np.array(images)\n",
        "  print(\"Görüntüler verileri alındı\")\n",
        "  return images"
      ],
      "metadata": {
        "id": "yOXho88o6XNB"
      },
      "execution_count": null,
      "outputs": []
    },
    {
      "cell_type": "code",
      "source": [
        "def loadImage():\n",
        "  !unzip goz.zip\n",
        "  print(\"Görüntüler yüklendi\")\n",
        "  return list(paths.list_images(\"goz\"))"
      ],
      "metadata": {
        "id": "cBG5g_lk5ERv"
      },
      "execution_count": null,
      "outputs": []
    },
    {
      "cell_type": "code",
      "source": [
        "def getLabel(dataPaths):\n",
        "  labels = []\n",
        "  lb = LabelBinarizer()\n",
        "  for path in dataPaths:\n",
        "    labels.append(path.split(os.path.sep)[-2])\n",
        "  labels = np.array(labels)\n",
        "  labels = lb.fit_transform(labels)\n",
        "  labels = to_categorical(labels)\n",
        "  print(\"Etiket verileri yüklendi\")\n",
        "  return labels, lb"
      ],
      "metadata": {
        "id": "sBhN4Mu86Gcd"
      },
      "execution_count": null,
      "outputs": []
    },
    {
      "cell_type": "code",
      "source": [
        "def getImageDataGenerator():\n",
        "  train = ImageDataGenerator()\n",
        "  mean = np.array([123.68, 116.779, 103.939], dtype=\"float32\")\n",
        "  train.mean = mean\n",
        "  return train"
      ],
      "metadata": {
        "id": "3knjY2dx6Gq2"
      },
      "execution_count": null,
      "outputs": []
    },
    {
      "cell_type": "code",
      "source": [
        "dataPaths = loadImage()\n",
        "images = getImage(dataPaths)\n",
        "labels, lb = getLabel(dataPaths)\n",
        "x_train, x_test, y_train, y_test = train_test_split(images, labels,\ttest_size=0.2, random_state=109)"
      ],
      "metadata": {
        "id": "sLtpJbjV6OoL"
      },
      "execution_count": null,
      "outputs": []
    },
    {
      "cell_type": "markdown",
      "source": [
        "# 2.ADIM: Verilerin yüklenmesi ve önişlemlerin gerçekleştirilmesi"
      ],
      "metadata": {
        "id": "bEimzVKHalqP"
      }
    },
    {
      "cell_type": "code",
      "source": [
        "x_train = x_train.astype(np.float32) / 255.0\n",
        "x_test = x_test.astype(np.float32) / 255.0"
      ],
      "metadata": {
        "id": "AwJHNwMsajw-"
      },
      "execution_count": null,
      "outputs": []
    },
    {
      "cell_type": "code",
      "source": [
        "# Veri kümesinden 10x10 piksel büyüklüklü 25 tane örnek ekrana yazdırıp neye benzediğine bakalım.\n",
        "plt.figure(figsize=(10, 10))\n",
        "for i in range(25):\n",
        "    plt.subplot(5, 5, i+1)\n",
        "    plt.xticks([])\n",
        "    plt.yticks([])\n",
        "    plt.grid(False)\n",
        "    plt.imshow(x_train[i])\n",
        "plt.show()"
      ],
      "metadata": {
        "id": "-q-ROIOnar-C"
      },
      "execution_count": null,
      "outputs": []
    },
    {
      "cell_type": "markdown",
      "source": [
        "# 3.ADIM: Eğtim verileri ve gruplarının oluşturulması"
      ],
      "metadata": {
        "id": "H4-_HkPibY2z"
      }
    },
    {
      "cell_type": "code",
      "source": [
        "batch_size = 32\n",
        "# Bu veri kümesi, bir arabelleği buffer_size elemanları ile doldurur,\n",
        "# ardından seçilen elemanları yeni elemanlarla değiştirerek rastgele örnekler.\n",
        "dataset = tf.data.Dataset.from_tensor_slices(x_train).shuffle(1000)\n",
        "# Bu veri kümesinin ardışık öğelerini toplu olarak birleştirir.\n",
        "dataset = dataset.batch(batch_size, drop_remainder=True).prefetch(1)"
      ],
      "metadata": {
        "id": "-A29GuUWasph"
      },
      "execution_count": null,
      "outputs": []
    },
    {
      "cell_type": "markdown",
      "source": [
        "# 4.ADIM: GAN için üretici (generator) ağının oluşturulması\n",
        "\n",
        "\n"
      ],
      "metadata": {
        "id": "J_N0fGP0bfDQ"
      }
    },
    {
      "cell_type": "code",
      "source": [
        "num_features = 100\n",
        "\n",
        "generator = keras.models.Sequential([\n",
        "    keras.layers.Dense(7 * 7 * 128, input_shape=[num_features]),\n",
        "    keras.layers.Reshape([7, 7, 128]),\n",
        "    keras.layers.BatchNormalization(),\n",
        "    keras.layers.Conv2DTranspose(64, (5,5), (2,2), padding=\"same\", activation=\"selu\"),\n",
        "    keras.layers.BatchNormalization(),\n",
        "    keras.layers.Conv2DTranspose(1, (5,5), (2,2), padding=\"same\", activation=\"tanh\"),\n",
        "])"
      ],
      "metadata": {
        "id": "dKcr2h1Jbb45"
      },
      "execution_count": null,
      "outputs": []
    },
    {
      "cell_type": "code",
      "source": [
        "noise = tf.random.normal(shape=[1, num_features])\n",
        "generated_images = generator(noise, training=False)\n",
        "show(generated_images, 1)"
      ],
      "metadata": {
        "colab": {
          "base_uri": "https://localhost:8080/",
          "height": 114
        },
        "id": "tW7333hJe9Vq",
        "outputId": "f740f703-f541-4733-ea1d-400a47d974f7"
      },
      "execution_count": null,
      "outputs": [
        {
          "output_type": "display_data",
          "data": {
            "text/plain": [
              "<Figure size 100x100 with 1 Axes>"
            ],
            "image/png": "[encoded data removed]"
          },
          "metadata": {}
        }
      ]
    },
    {
      "cell_type": "markdown",
      "source": [
        "# **5.ADIM: GAN için ayırıcı (discriminator) ağının oluşturulması**\n"
      ],
      "metadata": {
        "id": "psErj92OfO70"
      }
    },
    {
      "cell_type": "code",
      "source": [
        "discriminator = keras.models.Sequential([\n",
        "    keras.layers.Conv2D(64, (5,5), (2,2), padding=\"same\", input_shape=[28, 28, 1]),\n",
        "    keras.layers.LeakyReLU(0.2),\n",
        "    keras.layers.Dropout(0.3),\n",
        "    keras.layers.Conv2D(128, (5,5), (2,2), padding=\"same\"),\n",
        "    keras.layers.LeakyReLU(0.2),\n",
        "    keras.layers.Dropout(0.3),\n",
        "    keras.layers.Flatten(),\n",
        "    keras.layers.Dense(1, activation='sigmoid')\n",
        "])"
      ],
      "metadata": {
        "id": "w-RmA7BnfYLf"
      },
      "execution_count": null,
      "outputs": []
    },
    {
      "cell_type": "code",
      "source": [
        "# Üretilen görsel için ayırt edici %50 nin altında bir değer üretti ilk adım için\n",
        "decision = discriminator(generated_images)\n",
        "print(decision)"
      ],
      "metadata": {
        "colab": {
          "base_uri": "https://localhost:8080/"
        },
        "id": "ZKLHdIXBfcHy",
        "outputId": "4ec5d13a-9487-4685-a2a4-4c03ae222f7c"
      },
      "execution_count": null,
      "outputs": [
        {
          "output_type": "stream",
          "name": "stdout",
          "text": [
            "tf.Tensor([[0.5011651]], shape=(1, 1), dtype=float32)\n"
          ]
        }
      ]
    },
    {
      "cell_type": "markdown",
      "source": [
        "# 6.ADIM: Derin Evrişimli Üretici Çekişmeli Ağınızı Derlenmesi\n"
      ],
      "metadata": {
        "id": "oO37zyaJfiKX"
      }
    },
    {
      "cell_type": "code",
      "source": [
        "discriminator.compile(loss=\"binary_crossentropy\", optimizer=\"rmsprop\")\n",
        "discriminator.trainable = False\n",
        "gan = keras.models.Sequential([generator, discriminator])\n",
        "gan.compile(loss=\"binary_crossentropy\", optimizer=\"rmsprop\")"
      ],
      "metadata": {
        "id": "d-Kx2jhufcoe"
      },
      "execution_count": null,
      "outputs": []
    },
    {
      "cell_type": "markdown",
      "source": [
        "# 7.ADIM: Eğitim işlemlerini görseleştirilmesi\n"
      ],
      "metadata": {
        "id": "XvfQyellfrkF"
      }
    },
    {
      "cell_type": "code",
      "source": [
        "from IPython import display\n",
        "from tqdm import tqdm\n",
        "seed = tf.random.normal(shape=[batch_size, 100])"
      ],
      "metadata": {
        "id": "jQGFayYCfs70"
      },
      "execution_count": null,
      "outputs": []
    },
    {
      "cell_type": "code",
      "source": [
        "from tqdm import tqdm\n",
        "def train_dcgan(gan, dataset, batch_size, num_features, epochs=5):\n",
        "    generator, discriminator = gan.layers\n",
        "    for epoch in tqdm(range(epochs)):\n",
        "        print(\"Epoch {}/{}\".format(epoch + 1, epochs))\n",
        "        for X_batch in dataset:\n",
        "            noise = tf.random.normal(shape=[batch_size, num_features])\n",
        "            generated_images = generator(noise)\n",
        "            X_fake_and_real = tf.concat([generated_images, X_batch], axis=0)\n",
        "            y1 = tf.constant([[0.]] * batch_size + [[1.]] * batch_size)\n",
        "            discriminator.trainable = True\n",
        "            discriminator.train_on_batch(X_fake_and_real, y1)\n",
        "            noise = tf.random.normal(shape=[batch_size, num_features])\n",
        "            y2 = tf.constant([[1.]] * batch_size)\n",
        "            discriminator.trainable = False\n",
        "            gan.train_on_batch(noise, y2)\n",
        "            # Üretilen görüntüleri ekrana yazdırıp doyaya kaydedelim\n",
        "        display.clear_output(wait=True)\n",
        "        generate_and_save_images(generator, epoch + 1, seed)\n",
        "\n",
        "    display.clear_output(wait=True)\n",
        "    generate_and_save_images(generator, epochs, seed)"
      ],
      "metadata": {
        "id": "MQIFlNcpfun7"
      },
      "execution_count": null,
      "outputs": []
    },
    {
      "cell_type": "code",
      "source": [
        "def generate_and_save_images(model, epoch, test_input):\n",
        "  predictions = model(test_input, training=False)\n",
        "  fig = plt.figure(figsize=(10,10))\n",
        "\n",
        "  for i in range(25):\n",
        "      plt.subplot(5, 5, i+1)\n",
        "      plt.imshow(predictions[i, :, :, 0] * 127.5 + 127.5, cmap='binary')\n",
        "      plt.axis('off')\n",
        "\n",
        "  plt.savefig('image_at_epoch_{:04d}.png'.format(epoch))\n",
        "  plt.show()"
      ],
      "metadata": {
        "id": "8fBWw6kjfwHK"
      },
      "execution_count": null,
      "outputs": []
    },
    {
      "cell_type": "markdown",
      "source": [
        "# 8.ADIM: DCGAN'ın eğitilmesi\n",
        "Bu adımda tanımladığımız gan, dataset, batch_size, num_features ve epoch değerlerine göre eğitim işlemini gerçekleştirip sonuçları ekrana yazdırıyoruz."
      ],
      "metadata": {
        "id": "iP0UhHPmf03W"
      }
    },
    {
      "cell_type": "code",
      "source": [
        "# Eğitim için yeniden boyutlandırmanın yapılması\n",
        "x_train_dcgan = x_train.reshape(-1, 28, 28, 1) * 2. - 1."
      ],
      "metadata": {
        "id": "QdG7ajcZfzOE"
      },
      "execution_count": null,
      "outputs": []
    },
    {
      "cell_type": "code",
      "source": [
        "#Batch size boyutunun ve shuffle özelliklerinin belirlenmesi\n",
        "batch_size = 32\n",
        "dataset = tf.data.Dataset.from_tensor_slices(x_train_dcgan)\n",
        "dataset = dataset.shuffle(1000)\n",
        "dataset = dataset.batch(batch_size, drop_remainder=True).prefetch(1)"
      ],
      "metadata": {
        "id": "AfLF-1Esf3LZ"
      },
      "execution_count": null,
      "outputs": []
    },
    {
      "cell_type": "code",
      "source": [
        "%%time\n",
        "train_dcgan(gan, dataset, batch_size, num_features, epochs=500)"
      ],
      "metadata": {
        "id": "ho0bHtPUf4wp"
      },
      "execution_count": null,
      "outputs": []
    },
    {
      "cell_type": "markdown",
      "source": [
        "# 9.ADIM: GAN ile sentetik görüntülerin oluşturulması\n"
      ],
      "metadata": {
        "id": "mEupavjCf9lg"
      }
    },
    {
      "cell_type": "code",
      "source": [
        "noise = tf.random.normal(shape=[batch_size, num_features])\n",
        "generated_images = generator(noise)\n",
        "show(generated_images, 8)"
      ],
      "metadata": {
        "id": "3PMsDh0Rf6Bn"
      },
      "execution_count": null,
      "outputs": []
    }
  ]
}